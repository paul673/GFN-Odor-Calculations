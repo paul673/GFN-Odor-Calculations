{
 "cells": [
  {
   "cell_type": "code",
   "execution_count": 53,
   "metadata": {},
   "outputs": [],
   "source": [
    "import sys\n",
    "import os\n",
    "path_to_top_dir = \"../\"\n",
    "# Dynamically add the `project` directory to the path\n",
    "sys.path.append(os.path.abspath(path_to_top_dir))"
   ]
  },
  {
   "cell_type": "code",
   "execution_count": 54,
   "metadata": {},
   "outputs": [],
   "source": [
    "# Utils\n",
    "import warnings\n",
    "\n",
    "# Plotting\n",
    "from rdkit.Chem.Draw import MolsToGridImage\n",
    "import matplotlib.pyplot as plt\n",
    "import seaborn as sns\n",
    "from pycirclize import Circos\n",
    "\n",
    "# File management\n",
    "import json\n",
    "import numpy as np\n",
    "import pandas as pd\n",
    "\n",
    "\n",
    "# GFlowNET\n",
    "import gflownet\n",
    "from gflownet.algo.trajectory_balance import TrajectoryBalance\n",
    "from gflownet.envs.graph_building_env import GraphBuildingEnv\n",
    "from gflownet.config import init_empty, Config\n",
    "from scent_gfn.molecule import MoleculeTask\n",
    "\n",
    "# OpenPOM\n",
    "from pom_models.functions import fragance_propabilities_from_smiles\n",
    "\n",
    "# Others\n",
    "from tensorboard.backend.event_processing import event_accumulator\n",
    "import torch\n",
    "from rdkit import Chem"
   ]
  },
  {
   "cell_type": "code",
   "execution_count": 55,
   "metadata": {},
   "outputs": [],
   "source": [
    "from matplotlib.lines import Line2D"
   ]
  },
  {
   "cell_type": "code",
   "execution_count": 56,
   "metadata": {},
   "outputs": [
    {
     "data": {
      "text/plain": [
       "(['pine1_2024-12-03__14_19_29', 'pine2_2024-12-08__20_52_30'],\n",
       " ['vanilla10_2024-12-07__10_47_14',\n",
       "  'vanilla11_2024-12-13__20_56_37',\n",
       "  'vanilla12_2024-12-13__22_27_31',\n",
       "  'vanilla1_2024-12-03__18_44_11',\n",
       "  'vanilla2_2024-12-03__20_50_10',\n",
       "  'vanilla3_2024-12-03__22_12_54',\n",
       "  'vanilla4_2024-12-04__09_23_46',\n",
       "  'vanilla5_2024-12-04__15_17_35',\n",
       "  'vanilla6_2024-12-04__22_30_41',\n",
       "  'vanilla7_2024-12-05__11_23_44',\n",
       "  'vanilla8_2024-12-05__22_21_26',\n",
       "  'vanilla9_2024-12-06__20_41_11'])"
      ]
     },
     "execution_count": 56,
     "metadata": {},
     "output_type": "execute_result"
    }
   ],
   "source": [
    "\n",
    "directory = \"../results\"\n",
    "vanillasaves=[]\n",
    "pinesaves=[]\n",
    "# Iterate over files in directory\n",
    "for name in os.listdir(directory):\n",
    "    # Open file\n",
    "    #print(name)\n",
    "    if \"vanilla\" in name:\n",
    "        vanillasaves.append(name)\n",
    "    elif \"pine\" in name:\n",
    "        pinesaves.append(name)\n",
    "\n",
    "pinesaves,vanillasaves"
   ]
  },
  {
   "cell_type": "code",
   "execution_count": 57,
   "metadata": {},
   "outputs": [],
   "source": [
    "vanillalst = [\"\", \"vanilla8\",\"vanilla9\", \"vanilla10\",\"\", \"vanilla1\", \"vanilla2\", \"vanilla11\", \"vanilla12\", \"vanilla3\",\"vanilla4\"]  \n",
    "\n",
    "vanillanames={\n",
    "    \"vanilla1\": \"OpenPOM, Cosine\",\n",
    "    \"vanilla2\": \"Structure, Cosine\",\n",
    "    \"vanilla3\": \"OpenPOM, Cosine, Exp.pen\",\n",
    "    \"vanilla4\": \"OpenPOM, Cosine, Hard.pen\",\n",
    "    \"vanilla5\": \"\",\n",
    "    \"vanilla6\": \"\",\n",
    "    \"vanilla7\": \"\",\n",
    "    \"vanilla8\": \"OpenPOM, Cosine\",\n",
    "    \"vanilla9\": \"Structure, Cosine\",\n",
    "    \"vanilla10\": \"Structure, Cosine, Beta\",\n",
    "    \"vanilla11\": \"OpenPOM, Tanimoto\",\n",
    "    \"vanilla12\": \"Structure, Tanimoto\",\n",
    "}\n",
    "pinenames = {\n",
    "    \"pine1\": \"OpenPOM, Cosine\",\n",
    "    \"pine2\": \"OpenPOM, Cosine, Hard.pen\"\n",
    "}\n",
    "pinelst= [\"\", \"pine1\", \"pine2\"]  "
   ]
  },
  {
   "cell_type": "code",
   "execution_count": 58,
   "metadata": {},
   "outputs": [],
   "source": [
    "def find_save(van_str):\n",
    "    for save in vanillasaves:\n",
    "        if van_str==save.split(\"_\")[0]:\n",
    "            return save\n",
    "    return \"not found\"\n",
    "def find_save_pine(van_str):\n",
    "    for save in pinesaves:\n",
    "        if van_str==save.split(\"_\")[0]:\n",
    "            return save\n",
    "    return \"not found\""
   ]
  },
  {
   "cell_type": "code",
   "execution_count": 59,
   "metadata": {},
   "outputs": [
    {
     "data": {
      "text/plain": [
       "['vanilla8_2024-12-05__22_21_26',\n",
       " 'vanilla9_2024-12-06__20_41_11',\n",
       " 'vanilla10_2024-12-07__10_47_14',\n",
       " 'vanilla1_2024-12-03__18_44_11',\n",
       " 'vanilla2_2024-12-03__20_50_10',\n",
       " 'vanilla11_2024-12-13__20_56_37',\n",
       " 'vanilla12_2024-12-13__22_27_31',\n",
       " 'vanilla3_2024-12-03__22_12_54',\n",
       " 'vanilla4_2024-12-04__09_23_46',\n",
       " 'pine1_2024-12-03__14_19_29',\n",
       " 'pine2_2024-12-08__20_52_30']"
      ]
     },
     "execution_count": 59,
     "metadata": {},
     "output_type": "execute_result"
    }
   ],
   "source": [
    "alst = []\n",
    "for i in vanillalst:\n",
    "    if i!=\"\":\n",
    "        alst.append(find_save(i))\n",
    "for i in pinelst:\n",
    "    if i!=\"\":\n",
    "        alst.append(find_save_pine(i))\n",
    "alst"
   ]
  },
  {
   "cell_type": "code",
   "execution_count": 60,
   "metadata": {},
   "outputs": [
    {
     "data": {
      "text/plain": [
       "(['pine1_2024-12-03__14_19_29', 'pine2_2024-12-08__20_52_30'],\n",
       " ['vanilla10_2024-12-07__10_47_14',\n",
       "  'vanilla11_2024-12-13__20_56_37',\n",
       "  'vanilla12_2024-12-13__22_27_31',\n",
       "  'vanilla1_2024-12-03__18_44_11',\n",
       "  'vanilla2_2024-12-03__20_50_10',\n",
       "  'vanilla3_2024-12-03__22_12_54',\n",
       "  'vanilla4_2024-12-04__09_23_46',\n",
       "  'vanilla5_2024-12-04__15_17_35',\n",
       "  'vanilla6_2024-12-04__22_30_41',\n",
       "  'vanilla7_2024-12-05__11_23_44',\n",
       "  'vanilla8_2024-12-05__22_21_26',\n",
       "  'vanilla9_2024-12-06__20_41_11'])"
      ]
     },
     "execution_count": 60,
     "metadata": {},
     "output_type": "execute_result"
    }
   ],
   "source": [
    "\n",
    "directory = \"../results\"\n",
    "vanillasaves=[]\n",
    "pinesaves=[]\n",
    "# Iterate over files in directory\n",
    "for name in os.listdir(directory):\n",
    "    # Open file\n",
    "    #print(name)\n",
    "    if \"vanilla\" in name:\n",
    "        vanillasaves.append(name)\n",
    "    elif \"pine\" in name:\n",
    "        pinesaves.append(name)\n",
    "\n",
    "pinesaves,vanillasaves"
   ]
  },
  {
   "cell_type": "code",
   "execution_count": 61,
   "metadata": {},
   "outputs": [],
   "source": [
    "def calc_porperties(arr):\n",
    "    return dict(\n",
    "        arr=arr,\n",
    "        average = float(np.mean(arr)),\n",
    "        median = float(np.median(arr)),\n",
    "        quantile25 = float(np.quantile(arr,0.25)),\n",
    "        quantile75 = float(np.quantile(arr,0.75)),\n",
    "        variance = float(np.var(arr, ddof=1)),  # ddof=1 for sample variance\n",
    "        minimum = float(np.min(arr)),\n",
    "        maximum = float(np.max(arr))\n",
    "    )\n"
   ]
  },
  {
   "cell_type": "code",
   "execution_count": 62,
   "metadata": {},
   "outputs": [],
   "source": [
    "def save_size(savename,number):\n",
    "    \n",
    "    # Model class must be defined somewhere\n",
    "    state = torch.load(os.path.join(savename, \"model_final_save.pt\"), weights_only=False)\n",
    "    #model = statemodel.eval()\n",
    "    #state[\"models_state_dict\"]\n",
    "\n",
    "    env_ctx = state[\"env_ctx\"]\n",
    "\n",
    "\n",
    "    model = gflownet.models.graph_transformer.GraphTransformerGFN(state[\"env_ctx\"],state[\"cfg\"])\n",
    "    model.load_state_dict(state[\"models_state_dict\"][0])\n",
    "    model.eval()\n",
    "    algo = TrajectoryBalance(GraphBuildingEnv(),state[\"env_ctx\"],state[\"cfg\"])\n",
    "    #task = MoleculeTask(data_tuple=(params[\"reward_func\"], params[\"similarity\"],params[\"large_mol_pen\"], target, params[\"beta\"]))\n",
    "    trajs = algo.create_training_data_from_own_samples(model, number)\n",
    "    objs = [env_ctx.graph_to_obj(i['result']) for i in trajs]\n",
    "    atom_length_lst = []\n",
    "    smiles_list=[]\n",
    "    for obj in objs:\n",
    "        num_of_atoms = obj.GetNumAtoms()\n",
    "        atom_length_lst.append(num_of_atoms)\n",
    "        smiles_list.append(Chem.MolToSmiles(obj))\n",
    "\n",
    "    result_dict= calc_porperties(atom_length_lst)\n",
    "    result_dict[\"smiles\"]=smiles_list\n",
    "    return result_dict\n",
    "    \n",
    "\n"
   ]
  },
  {
   "cell_type": "code",
   "execution_count": 63,
   "metadata": {},
   "outputs": [],
   "source": [
    "vanillalst = [\"\", \"vanilla8\",\"vanilla9\", \"vanilla10\",\"\", \"vanilla1\", \"vanilla2\", \"vanilla11\", \"vanilla12\", \"vanilla3\",\"vanilla4\"]  \n",
    "\n",
    "vanillanames={\n",
    "    \"vanilla1\": \"OpenPOM, Cosine\",\n",
    "    \"vanilla2\": \"Structure, Cosine\",\n",
    "    \"vanilla3\": \"OpenPOM, Cosine, Exp.pen\",\n",
    "    \"vanilla4\": \"OpenPOM, Cosine, Hard.pen\",\n",
    "    \"vanilla5\": \"\",\n",
    "    \"vanilla6\": \"\",\n",
    "    \"vanilla7\": \"\",\n",
    "    \"vanilla8\": \"OpenPOM, Cosine\",\n",
    "    \"vanilla9\": \"Structure, Cosine\",\n",
    "    \"vanilla10\": \"Structure, Cosine, Beta\",\n",
    "    \"vanilla11\": \"OpenPOM, Tanimoto\",\n",
    "    \"vanilla12\": \"Structure, Tanimoto\",\n",
    "}\n",
    "pinenames = {\n",
    "    \"pine1\": \"OpenPOM, Cosine\",\n",
    "    \"pine2\": \"OpenPOM, Cosine, Hard.pen\"\n",
    "}\n",
    "pinelst= [\"\", \"pine1\", \"pine2\"]  "
   ]
  },
  {
   "cell_type": "code",
   "execution_count": 64,
   "metadata": {},
   "outputs": [],
   "source": [
    "#savename = \"c:/Users/paulj/Desktop/prosjekt/pom_cpu-model/results/pine1_2024-12-03__14_19_29\"\n",
    "#save_size(savename,10)"
   ]
  },
  {
   "cell_type": "code",
   "execution_count": 65,
   "metadata": {},
   "outputs": [],
   "source": [
    "alst = ['vanilla8_2024-12-05__22_21_26',\n",
    " 'vanilla9_2024-12-06__20_41_11',\n",
    " 'vanilla10_2024-12-07__10_47_14',\n",
    " 'vanilla1_2024-12-03__18_44_11',\n",
    " 'vanilla2_2024-12-03__20_50_10',\n",
    " 'vanilla11_2024-12-13__20_56_37',\n",
    " 'vanilla12_2024-12-13__22_27_31',\n",
    " 'vanilla3_2024-12-03__22_12_54',\n",
    " 'vanilla4_2024-12-04__09_23_46',\n",
    " 'pine1_2024-12-03__14_19_29',\n",
    " 'pine2_2024-12-08__20_52_30']"
   ]
  },
  {
   "cell_type": "code",
   "execution_count": 66,
   "metadata": {},
   "outputs": [],
   "source": [
    "arr = []\n",
    "smiles = []\n",
    "endings = [\"v1\",\"v2\",\"v3\",\"v4\"]\n",
    "for ending in endings:\n",
    "    name = f\"vanilla8_2024-12-05__22_21_26{ending}.json\"\n",
    "    with open(f\"../images/json/{name}\", \"r\") as file:\n",
    "        d = json.load(file)\n",
    "        arr = arr + d[\"arr\"]\n",
    "        smiles = smiles + d['smiles']\n",
    "van8 = calc_porperties(arr)\n",
    "van8[\"smiles\"] = smiles\n",
    "\n",
    "with open(f\"../images/json/vanilla8_2024-12-05__22_21_26.json\", \"w\") as file:\n",
    "    json.dump(van8,file)\n",
    "\n",
    "arr = []\n",
    "smiles = []\n",
    "endings = [\"v1\",\"v2\",\"v3\",\"v4\"]\n",
    "for ending in endings:\n",
    "    name = f\"vanilla9_2024-12-06__20_41_11{ending}.json\"\n",
    "    with open(f\"../images/json/{name}\", \"r\") as file:\n",
    "        d = json.load(file)\n",
    "        arr = arr + d[\"arr\"]\n",
    "        smiles = smiles + d['smiles']\n",
    "van9 = calc_porperties(arr)\n",
    "van9[\"smiles\"] = smiles\n",
    "\n",
    "with open(f\"../images/json/vanilla9_2024-12-06__20_41_11.json\", \"w\") as file:\n",
    "    json.dump(van9,file)\n",
    " \n",
    "        "
   ]
  },
  {
   "cell_type": "code",
   "execution_count": 67,
   "metadata": {},
   "outputs": [
    {
     "name": "stdout",
     "output_type": "stream",
     "text": [
      "vanilla8_2024-12-05__22_21_26.json\n",
      "vanilla9_2024-12-06__20_41_11.json\n",
      "vanilla10_2024-12-07__10_47_14.json\n",
      "vanilla1_2024-12-03__18_44_11.json\n",
      "vanilla2_2024-12-03__20_50_10.json\n",
      "vanilla11_2024-12-13__20_56_37.json\n",
      "vanilla12_2024-12-13__22_27_31.json\n",
      "vanilla3_2024-12-03__22_12_54.json\n",
      "vanilla4_2024-12-04__09_23_46.json\n",
      "pine1_2024-12-03__14_19_29.json\n",
      "pine2_2024-12-08__20_52_30.json\n"
     ]
    }
   ],
   "source": [
    "d = {}\n",
    "for save in alst:\n",
    "    name = save\n",
    "    save = f\"{save}.json\"\n",
    "    print(save)\n",
    "    if save[-7:] in [\"v1.json\",\"v2.json\",\"v3.json\",\"v4.json\"]:\n",
    "        continue\n",
    "    with open(f\"../images/json/{save}\", \"r\") as file:\n",
    "        d[name] = json.load(file)\n",
    "results=d"
   ]
  },
  {
   "cell_type": "code",
   "execution_count": 68,
   "metadata": {},
   "outputs": [],
   "source": [
    "def stack_dfs(df,name, savename):\n",
    "    df2 = pd.DataFrame(\n",
    "    columns=[\" \",\"Molecule size\"]\n",
    "    )\n",
    "    df2[\" \"]=[name for i in results[savename][\"arr\"]]\n",
    "    df2[\"Molecule size\"]=results[savename][\"arr\"]\n",
    "\n",
    "    df = pd.concat([df,df2])\n",
    "    return df"
   ]
  },
  {
   "cell_type": "code",
   "execution_count": null,
   "metadata": {},
   "outputs": [],
   "source": []
  },
  {
   "cell_type": "code",
   "execution_count": 69,
   "metadata": {},
   "outputs": [],
   "source": [
    "def find_save(van_str):\n",
    "    for save in vanillasaves:\n",
    "        if van_str==save.split(\"_\")[0]:\n",
    "            return save\n",
    "    return \"not found\"\n",
    "def find_save_pine(van_str):\n",
    "    for save in pinesaves:\n",
    "        if van_str==save.split(\"_\")[0]:\n",
    "            return save\n",
    "    return \"not found\""
   ]
  },
  {
   "cell_type": "code",
   "execution_count": 70,
   "metadata": {},
   "outputs": [
    {
     "data": {
      "text/plain": [
       "['',\n",
       " 'vanilla8',\n",
       " 'vanilla9',\n",
       " 'vanilla10',\n",
       " '',\n",
       " 'vanilla1',\n",
       " 'vanilla2',\n",
       " 'vanilla11',\n",
       " 'vanilla12',\n",
       " 'vanilla3',\n",
       " 'vanilla4']"
      ]
     },
     "execution_count": 70,
     "metadata": {},
     "output_type": "execute_result"
    }
   ],
   "source": [
    "vanillalst"
   ]
  },
  {
   "cell_type": "code",
   "execution_count": 71,
   "metadata": {},
   "outputs": [
    {
     "data": {
      "text/plain": [
       "[(0.4, 0.7607843137254902, 0.6470588235294118),\n",
       " (0.9882352941176471, 0.5529411764705883, 0.3843137254901961),\n",
       " (0.0, 0.0, 0.0),\n",
       " (0.5529411764705883, 0.6274509803921569, 0.796078431372549),\n",
       " (0.9058823529411765, 0.5411764705882353, 0.7647058823529411),\n",
       " (0.6509803921568628, 0.8470588235294118, 0.32941176470588235),\n",
       " (1.0, 0.8509803921568627, 0.1843137254901961),\n",
       " (0.8980392156862745, 0.7686274509803922, 0.5803921568627451),\n",
       " (0.7019607843137254, 0.7019607843137254, 0.7019607843137254)]"
      ]
     },
     "execution_count": 71,
     "metadata": {},
     "output_type": "execute_result"
    }
   ],
   "source": [
    "list(sns.color_palette(\"Set2\"))[0:2]+[(0.0,0.0,0.0)]+list(sns.color_palette(\"Set2\"))[2:]"
   ]
  },
  {
   "cell_type": "code",
   "execution_count": 72,
   "metadata": {},
   "outputs": [],
   "source": [
    "pp = sns.color_palette( list(sns.color_palette(\"Set2\"))[0:2]+[(0.0,0.0,0.0)]+list(sns.color_palette(\"Set2\"))[2:])"
   ]
  },
  {
   "cell_type": "code",
   "execution_count": 73,
   "metadata": {},
   "outputs": [
    {
     "name": "stdout",
     "output_type": "stream",
     "text": [
      "\n",
      "vanilla8\n",
      "vanilla9\n",
      "vanilla10\n",
      "\n",
      "vanilla1\n",
      "vanilla2\n",
      "vanilla11\n",
      "vanilla12\n",
      "vanilla3\n",
      "vanilla4\n"
     ]
    },
    {
     "name": "stderr",
     "output_type": "stream",
     "text": [
      "C:\\Users\\paulj\\AppData\\Local\\Temp\\ipykernel_5304\\4084720645.py:22: FutureWarning: \n",
      "\n",
      "Passing `palette` without assigning `hue` is deprecated and will be removed in v0.14.0. Assign the `y` variable to `hue` and set `legend=False` for the same effect.\n",
      "\n",
      "  sns.boxplot(x=df[\"Molecule size\"], y=df[\" \"], palette=pp)\n"
     ]
    },
    {
     "data": {
      "image/png": "[encoded data removed]",
      "text/plain": [
       "<Figure size 640x480 with 1 Axes>"
      ]
     },
     "metadata": {},
     "output_type": "display_data"
    }
   ],
   "source": [
    "\n",
    "df = pd.DataFrame(\n",
    "    columns=[\" \",\"Molecule size\"]\n",
    "    )\n",
    "df2 = pd.DataFrame(\n",
    "    columns=[\" \",\"Molecule size\"]\n",
    "    )\n",
    "dflst = [df,df2]\n",
    "ytickslst=[[],[]]\n",
    "yticks = []\n",
    "index=-1\n",
    "for name in vanillalst:\n",
    "    print(name)\n",
    "    \n",
    "    if name!=\"\":\n",
    "        savename = find_save(name)\n",
    "        dflst[index] = stack_dfs(dflst[index], name, savename)\n",
    "        ytickslst[index].append(vanillanames[name])\n",
    "    else:\n",
    "        index+=1\n",
    "dflst\n",
    "df=pd.concat(dflst)\n",
    "sns.boxplot(x=df[\"Molecule size\"], y=df[\" \"], palette=pp)\n",
    "y_ticks = plt.yticks()[0]  # Get current y-tick positions\n",
    "plt.yticks(ticks=y_ticks, labels=['Atom-Based, '+i for i in ytickslst[0]]+['Fragment-Based, '+i for i in ytickslst[1]])\n",
    "\n",
    "# Manually add subheadings for the ranges\n",
    "#plt.text(0.1, 0, 'Atom-Based', fontsize=12, color='black', va='center', ha='right', fontweight='bold')\n",
    "#plt.text(1.9, 2, 'Fragment-Based', fontsize=12, color='black', va='center', ha='right', fontweight='bold')\n",
    "#plt.axhline(y=1.5, color='gray', linestyle='-', linewidth=1)\n",
    "plt.grid()\n",
    "plt.savefig(\"../images/vanillabox.pdf\",bbox_inches=\"tight\")\n"
   ]
  },
  {
   "cell_type": "code",
   "execution_count": null,
   "metadata": {},
   "outputs": [],
   "source": []
  },
  {
   "cell_type": "code",
   "execution_count": 35,
   "metadata": {},
   "outputs": [
    {
     "name": "stdout",
     "output_type": "stream",
     "text": [
      "\n",
      "pine1\n",
      "pine2\n"
     ]
    },
    {
     "name": "stderr",
     "output_type": "stream",
     "text": [
      "C:\\Users\\paulj\\AppData\\Local\\Temp\\ipykernel_5304\\2551454043.py:19: FutureWarning: \n",
      "\n",
      "Passing `palette` without assigning `hue` is deprecated and will be removed in v0.14.0. Assign the `y` variable to `hue` and set `legend=False` for the same effect.\n",
      "\n",
      "  sns.boxplot(x=df[\"Molecule size\"], y=df[\" \"], palette='Set2')\n"
     ]
    },
    {
     "data": {
      "image/png": "[encoded data removed]",
      "text/plain": [
       "<Figure size 640x480 with 1 Axes>"
      ]
     },
     "metadata": {},
     "output_type": "display_data"
    }
   ],
   "source": [
    "df = pd.DataFrame(\n",
    "    columns=[\" \",\"Molecule size\"]\n",
    "    )\n",
    "\n",
    "\n",
    "\n",
    "yticks = []\n",
    "index=-1\n",
    "for name in pinelst:\n",
    "    print(name)\n",
    "    \n",
    "    if name!=\"\":\n",
    "        savename = find_save_pine(name)\n",
    "        df = stack_dfs(df, name, savename)\n",
    "        yticks.append(pinenames[name])\n",
    "    else:\n",
    "        index+=1\n",
    "df\n",
    "sns.boxplot(x=df[\"Molecule size\"], y=df[\" \"], palette='Set2')\n",
    "y_ticks = plt.yticks()[0]  # Get current y-tick positions\n",
    "plt.yticks(ticks=y_ticks, labels=['Fragment-Based, '+i for i in yticks])\n",
    "\n",
    "# Manually add subheadings for the ranges\n",
    "#plt.text(0.1, 0, 'Atom-Based', fontsize=12, color='black', va='center', ha='right', fontweight='bold')\n",
    "#plt.text(1.9, 2, 'Fragment-Based', fontsize=12, color='black', va='center', ha='right', fontweight='bold')\n",
    "#plt.axhline(y=1.5, color='gray', linestyle='-', linewidth=1)\n",
    "plt.grid()\n",
    "plt.savefig(\"../images/pinebox.pdf\",bbox_inches=\"tight\")"
   ]
  },
  {
   "cell_type": "code",
   "execution_count": null,
   "metadata": {},
   "outputs": [],
   "source": []
  }
 ],
 "metadata": {
  "kernelspec": {
   "display_name": "venv",
   "language": "python",
   "name": "python3"
  },
  "language_info": {
   "codemirror_mode": {
    "name": "ipython",
    "version": 3
   },
   "file_extension": ".py",
   "mimetype": "text/x-python",
   "name": "python",
   "nbconvert_exporter": "python",
   "pygments_lexer": "ipython3",
   "version": "3.10.9"
  }
 },
 "nbformat": 4,
 "nbformat_minor": 2
}

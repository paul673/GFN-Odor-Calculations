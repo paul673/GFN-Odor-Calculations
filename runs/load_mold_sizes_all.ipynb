{
 "cells": [
  {
   "cell_type": "code",
   "execution_count": 1,
   "metadata": {},
   "outputs": [],
   "source": [
    "import sys\n",
    "import os\n",
    "path_to_top_dir = \"../\"\n",
    "# Dynamically add the `project` directory to the path\n",
    "sys.path.append(os.path.abspath(path_to_top_dir))"
   ]
  },
  {
   "cell_type": "code",
   "execution_count": 2,
   "metadata": {},
   "outputs": [
    {
     "name": "stderr",
     "output_type": "stream",
     "text": [
      "Skipped loading some Tensorflow models, missing a dependency. No module named 'tensorflow'\n",
      "\u001b[34m\u001b[1mwandb\u001b[0m: \u001b[33mWARNING\u001b[0m W&B installed but not logged in.  Run `wandb login` or set the WANDB_API_KEY env variable.\n",
      "Skipped loading modules with transformers dependency. No module named 'transformers'\n",
      "cannot import name 'HuggingFaceModel' from 'deepchem.models.torch_models' (c:\\Users\\paulj\\Desktop\\prosjekt\\pom_cpu-model\\venv\\lib\\site-packages\\deepchem\\models\\torch_models\\__init__.py)\n",
      "Skipped loading modules with pytorch-lightning dependency, missing a dependency. No module named 'lightning'\n",
      "Skipped loading some Jax models, missing a dependency. No module named 'jax'\n",
      "Skipped loading some PyTorch models, missing a dependency. No module named 'tensorflow'\n",
      "c:\\Users\\paulj\\Desktop\\prosjekt\\pom_cpu-model\\venv\\lib\\site-packages\\deepchem\\models\\torch_models\\torch_model.py:1078: FutureWarning: You are using `torch.load` with `weights_only=False` (the current default value), which uses the default pickle module implicitly. It is possible to construct malicious pickle data which will execute arbitrary code during unpickling (See https://github.com/pytorch/pytorch/blob/main/SECURITY.md#untrusted-models for more details). In a future release, the default value for `weights_only` will be flipped to `True`. This limits the functions that could be executed during unpickling. Arbitrary objects will no longer be allowed to be loaded via this mode unless they are explicitly allowlisted by the user via `torch.serialization.add_safe_globals`. We recommend you start setting `weights_only=True` for any use case where you don't have full control of the loaded file. Please open an issue on GitHub for any issues related to this experimental feature.\n",
      "  data = torch.load(checkpoint, map_location=self.device)\n"
     ]
    }
   ],
   "source": [
    "# Utils\n",
    "import warnings\n",
    "\n",
    "# Plotting\n",
    "from rdkit.Chem.Draw import MolsToGridImage\n",
    "import matplotlib.pyplot as plt\n",
    "import seaborn as sns\n",
    "from pycirclize import Circos\n",
    "\n",
    "# File management\n",
    "import json\n",
    "import numpy as np\n",
    "import pandas as pd\n",
    "\n",
    "\n",
    "# GFlowNET\n",
    "import gflownet\n",
    "from gflownet.algo.trajectory_balance import TrajectoryBalance\n",
    "from gflownet.envs.graph_building_env import GraphBuildingEnv\n",
    "from gflownet.config import init_empty, Config\n",
    "from scent_gfn.molecule import MoleculeTask\n",
    "\n",
    "# OpenPOM\n",
    "from pom_models.functions import fragance_propabilities_from_smiles\n",
    "\n",
    "# Others\n",
    "from tensorboard.backend.event_processing import event_accumulator\n",
    "import torch\n",
    "from rdkit import Chem"
   ]
  },
  {
   "cell_type": "code",
   "execution_count": 3,
   "metadata": {},
   "outputs": [],
   "source": [
    "from matplotlib.lines import Line2D"
   ]
  },
  {
   "cell_type": "code",
   "execution_count": 4,
   "metadata": {},
   "outputs": [
    {
     "data": {
      "text/plain": [
       "(['pine1_2024-12-03__14_19_29', 'pine2_2024-12-08__20_52_30'],\n",
       " ['vanilla10_2024-12-07__10_47_14',\n",
       "  'vanilla11_2024-12-13__20_56_37',\n",
       "  'vanilla12_2024-12-13__22_27_31',\n",
       "  'vanilla1_2024-12-03__18_44_11',\n",
       "  'vanilla2_2024-12-03__20_50_10',\n",
       "  'vanilla3_2024-12-03__22_12_54',\n",
       "  'vanilla4_2024-12-04__09_23_46',\n",
       "  'vanilla5_2024-12-04__15_17_35',\n",
       "  'vanilla6_2024-12-04__22_30_41',\n",
       "  'vanilla7_2024-12-05__11_23_44',\n",
       "  'vanilla8_2024-12-05__22_21_26',\n",
       "  'vanilla9_2024-12-06__20_41_11'])"
      ]
     },
     "execution_count": 4,
     "metadata": {},
     "output_type": "execute_result"
    }
   ],
   "source": [
    "\n",
    "directory = \"../results\"\n",
    "vanillasaves=[]\n",
    "pinesaves=[]\n",
    "# Iterate over files in directory\n",
    "for name in os.listdir(directory):\n",
    "    # Open file\n",
    "    #print(name)\n",
    "    if \"vanilla\" in name:\n",
    "        vanillasaves.append(name)\n",
    "    elif \"pine\" in name:\n",
    "        pinesaves.append(name)\n",
    "\n",
    "pinesaves,vanillasaves"
   ]
  },
  {
   "cell_type": "code",
   "execution_count": 5,
   "metadata": {},
   "outputs": [],
   "source": [
    "vanillalst = [\"\", \"vanilla8\",\"vanilla9\", \"vanilla10\",\"\", \"vanilla1\", \"vanilla2\", \"vanilla11\", \"vanilla12\", \"vanilla3\",\"vanilla4\"]  \n",
    "\n",
    "vanillanames={\n",
    "    \"vanilla1\": \"OpenPOM, Cosine\",\n",
    "    \"vanilla2\": \"Structure, Cosine\",\n",
    "    \"vanilla3\": \"OpenPOM, Cosine, Exp.pen\",\n",
    "    \"vanilla4\": \"OpenPOM, Cosine, Hard.pen\",\n",
    "    \"vanilla5\": \"\",\n",
    "    \"vanilla6\": \"\",\n",
    "    \"vanilla7\": \"\",\n",
    "    \"vanilla8\": \"OpenPOM, Cosine\",\n",
    "    \"vanilla9\": \"Structure, Cosine\",\n",
    "    \"vanilla10\": \"Structure, Cosine, Beta\",\n",
    "    \"vanilla11\": \"OpenPOM, Tanimoto\",\n",
    "    \"vanilla12\": \"Structure, Tanimoto\",\n",
    "}\n",
    "pinenames = {\n",
    "    \"pine1\": \"OpenPOM, Cosine\",\n",
    "    \"pine2\": \"OpenPOM, Cosine, Hard.pen\"\n",
    "}\n",
    "pinelst= [\"\", \"pine1\", \"pine2\"]  "
   ]
  },
  {
   "cell_type": "code",
   "execution_count": 6,
   "metadata": {},
   "outputs": [],
   "source": [
    "def find_save(van_str):\n",
    "    for save in vanillasaves:\n",
    "        if van_str==save.split(\"_\")[0]:\n",
    "            return save\n",
    "    return \"not found\"\n",
    "def find_save_pine(van_str):\n",
    "    for save in pinesaves:\n",
    "        if van_str==save.split(\"_\")[0]:\n",
    "            return save\n",
    "    return \"not found\""
   ]
  },
  {
   "cell_type": "code",
   "execution_count": 9,
   "metadata": {},
   "outputs": [
    {
     "data": {
      "text/plain": [
       "['vanilla8_2024-12-05__22_21_26',\n",
       " 'vanilla9_2024-12-06__20_41_11',\n",
       " 'vanilla10_2024-12-07__10_47_14',\n",
       " 'vanilla1_2024-12-03__18_44_11',\n",
       " 'vanilla2_2024-12-03__20_50_10',\n",
       " 'vanilla11_2024-12-13__20_56_37',\n",
       " 'vanilla12_2024-12-13__22_27_31',\n",
       " 'vanilla3_2024-12-03__22_12_54',\n",
       " 'vanilla4_2024-12-04__09_23_46',\n",
       " 'pine1_2024-12-03__14_19_29',\n",
       " 'pine2_2024-12-08__20_52_30']"
      ]
     },
     "execution_count": 9,
     "metadata": {},
     "output_type": "execute_result"
    }
   ],
   "source": [
    "alst = []\n",
    "for i in vanillalst:\n",
    "    if i!=\"\":\n",
    "        alst.append(find_save(i))\n",
    "for i in pinelst:\n",
    "    if i!=\"\":\n",
    "        alst.append(find_save_pine(i))\n",
    "alst"
   ]
  },
  {
   "cell_type": "code",
   "execution_count": 236,
   "metadata": {},
   "outputs": [
    {
     "data": {
      "text/plain": [
       "(['pine1_2024-12-03__14_19_29', 'pine2_2024-12-08__20_52_30'],\n",
       " ['vanilla10_2024-12-07__10_47_14',\n",
       "  'vanilla11_2024-12-13__20_56_37',\n",
       "  'vanilla12_2024-12-13__22_27_31',\n",
       "  'vanilla1_2024-12-03__18_44_11',\n",
       "  'vanilla2_2024-12-03__20_50_10',\n",
       "  'vanilla3_2024-12-03__22_12_54',\n",
       "  'vanilla4_2024-12-04__09_23_46',\n",
       "  'vanilla5_2024-12-04__15_17_35',\n",
       "  'vanilla6_2024-12-04__22_30_41',\n",
       "  'vanilla7_2024-12-05__11_23_44',\n",
       "  'vanilla8_2024-12-05__22_21_26',\n",
       "  'vanilla9_2024-12-06__20_41_11'])"
      ]
     },
     "execution_count": 236,
     "metadata": {},
     "output_type": "execute_result"
    }
   ],
   "source": [
    "\n",
    "directory = \"../results\"\n",
    "vanillasaves=[]\n",
    "pinesaves=[]\n",
    "# Iterate over files in directory\n",
    "for name in os.listdir(directory):\n",
    "    # Open file\n",
    "    #print(name)\n",
    "    if \"vanilla\" in name:\n",
    "        vanillasaves.append(name)\n",
    "    elif \"pine\" in name:\n",
    "        pinesaves.append(name)\n",
    "\n",
    "pinesaves,vanillasaves"
   ]
  },
  {
   "cell_type": "code",
   "execution_count": 237,
   "metadata": {},
   "outputs": [],
   "source": [
    "def calc_porperties(arr):\n",
    "    return dict(\n",
    "        arr=arr,\n",
    "        average = float(np.mean(arr)),\n",
    "        median = float(np.median(arr)),\n",
    "        quantile25 = float(np.quantile(arr,0.25)),\n",
    "        quantile75 = float(np.quantile(arr,0.75)),\n",
    "        variance = float(np.var(arr, ddof=1)),  # ddof=1 for sample variance\n",
    "        minimum = float(np.min(arr)),\n",
    "        maximum = float(np.max(arr))\n",
    "    )\n"
   ]
  },
  {
   "cell_type": "code",
   "execution_count": 238,
   "metadata": {},
   "outputs": [],
   "source": [
    "def save_size(savename,number):\n",
    "    \n",
    "    # Model class must be defined somewhere\n",
    "    state = torch.load(os.path.join(savename, \"model_final_save.pt\"), weights_only=False)\n",
    "    #model = statemodel.eval()\n",
    "    #state[\"models_state_dict\"]\n",
    "\n",
    "    env_ctx = state[\"env_ctx\"]\n",
    "\n",
    "\n",
    "    model = gflownet.models.graph_transformer.GraphTransformerGFN(state[\"env_ctx\"],state[\"cfg\"])\n",
    "    model.load_state_dict(state[\"models_state_dict\"][0])\n",
    "    model.eval()\n",
    "    algo = TrajectoryBalance(GraphBuildingEnv(),state[\"env_ctx\"],state[\"cfg\"])\n",
    "    #task = MoleculeTask(data_tuple=(params[\"reward_func\"], params[\"similarity\"],params[\"large_mol_pen\"], target, params[\"beta\"]))\n",
    "    trajs = algo.create_training_data_from_own_samples(model, number)\n",
    "    objs = [env_ctx.graph_to_obj(i['result']) for i in trajs]\n",
    "    atom_length_lst = []\n",
    "    smiles_list=[]\n",
    "    for obj in objs:\n",
    "        num_of_atoms = obj.GetNumAtoms()\n",
    "        atom_length_lst.append(num_of_atoms)\n",
    "        smiles_list.append(Chem.MolToSmiles(obj))\n",
    "\n",
    "    result_dict= calc_porperties(atom_length_lst)\n",
    "    result_dict[\"smiles\"]=smiles_list\n",
    "    return result_dict\n",
    "    \n",
    "\n"
   ]
  },
  {
   "cell_type": "code",
   "execution_count": 239,
   "metadata": {},
   "outputs": [],
   "source": [
    "vanillalst = [\"\", \"vanilla8\",\"vanilla9\", \"vanilla10\",\"\", \"vanilla1\", \"vanilla2\", \"vanilla11\", \"vanilla12\", \"vanilla3\",\"vanilla4\"]  \n",
    "\n",
    "vanillanames={\n",
    "    \"vanilla1\": \"OpenPOM, Cosine\",\n",
    "    \"vanilla2\": \"Structure, Cosine\",\n",
    "    \"vanilla3\": \"OpenPOM, Cosine, Exp.pen\",\n",
    "    \"vanilla4\": \"OpenPOM, Cosine, Hard.pen\",\n",
    "    \"vanilla5\": \"\",\n",
    "    \"vanilla6\": \"\",\n",
    "    \"vanilla7\": \"\",\n",
    "    \"vanilla8\": \"OpenPOM, Cosine\",\n",
    "    \"vanilla9\": \"Structure, Cosine\",\n",
    "    \"vanilla10\": \"Structure, Cosine, Beta\",\n",
    "    \"vanilla11\": \"OpenPOM, Tanimoto\",\n",
    "    \"vanilla12\": \"Structure, Tanimoto\",\n",
    "}\n",
    "pinenames = {\n",
    "    \"pine1\": \"OpenPOM, Cosine\",\n",
    "    \"pine2\": \"OpenPOM, Cosine, Hard.pen\"\n",
    "}\n",
    "pinelst= [\"\", \"pine1\", \"pine2\"]  "
   ]
  },
  {
   "cell_type": "code",
   "execution_count": null,
   "metadata": {},
   "outputs": [
    {
     "data": {
      "text/plain": [
       "{'arr': [33, 33, 34, 26, 37, 39, 40, 32, 33, 33],\n",
       " 'average': 34.0,\n",
       " 'median': 33.0,\n",
       " 'quantile25': 33.0,\n",
       " 'quantile75': 36.25,\n",
       " 'variance': 15.777777777777779,\n",
       " 'minimum': 26.0,\n",
       " 'maximum': 40.0,\n",
       " 'smiles': ['c1ccc(-c2cccc(C3CC(C4COC(c5ccc[nH]5)CC4c4cccs4)CO3)c2)cc1',\n",
       "  'CC(=CC1CCCCC1C1CCCCO1)c1cc(-c2ccccn2)ccc1N1CCNCC1',\n",
       "  'c1ccc(-c2ccnc(C3CCCCC3)c2N2CCCC2c2cc(C3CCCO3)ncn2)nc1',\n",
       "  'C[SH+]n1cc(C2CCCO2)c(-c2cnc(-c3ccn[nH]3)nc2[N+](=O)[O-])n1',\n",
       "  'O=c1nc(-c2ccc(C3CCOCC3)c(-c3ccc(C4CCC=CC4C4CCCCC4)cc3)n2)cc[nH]1',\n",
       "  'O=c1[nH]cnc2c1ncn2-c1cc(-c2cc[nH]c2)ncc1-c1cc(-c2ccccc2)cc(C2CCCNC2)c1',\n",
       "  'c1cc(-c2cc(-c3cncnc3C3CCCCC3)c3ccccc3c2)cc(C2CCCN(C3CCCCC3)C2)c1',\n",
       "  'CC(=Cc1ccc[n+](C2C(c3cc[nH]n3)COCC2N2CCNCC2)c1)c1cncnc1',\n",
       "  'c1cnc(-c2nc(C3CCC(C4CCCCC4)O3)cs2)c(N2CCCC2C2CCCCO2)c1',\n",
       "  'O=C(O)C1OCCCC1c1cncc(-c2ccnc(C3=CNC=CC3)c2)c1-c1cncnc1']}"
      ]
     },
     "execution_count": 240,
     "metadata": {},
     "output_type": "execute_result"
    },
    {
     "ename": "",
     "evalue": "",
     "output_type": "error",
     "traceback": [
      "\u001b[1;31mThe Kernel crashed while executing code in the current cell or a previous cell. \n",
      "\u001b[1;31mPlease review the code in the cell(s) to identify a possible cause of the failure. \n",
      "\u001b[1;31mClick <a href='https://aka.ms/vscodeJupyterKernelCrash'>here</a> for more info. \n",
      "\u001b[1;31mView Jupyter <a href='command:jupyter.viewOutput'>log</a> for further details."
     ]
    }
   ],
   "source": [
    "savename = \"c:/Users/paulj/Desktop/prosjekt/pom_cpu-model/results/pine1_2024-12-03__14_19_29\"\n",
    "save_size(savename,10)"
   ]
  },
  {
   "cell_type": "code",
   "execution_count": null,
   "metadata": {},
   "outputs": [],
   "source": [
    "directory = \"../results\"\n",
    "results = {}\n",
    "# Iterate over files in directory\n",
    "for name in os.listdir(directory):\n",
    "\n",
    "    savename = f\"c:/Users/paulj/Desktop/prosjekt/pom_cpu-model/results/{name}\"\n",
    "    resultd = save_size(savename,1000)\n",
    "    #resultd[\"name\"]=name\n",
    "    results[name] = resultd\n",
    "results"
   ]
  },
  {
   "cell_type": "code",
   "execution_count": 227,
   "metadata": {},
   "outputs": [],
   "source": [
    "with open(\"../images/size.json\",\"w+\")as file:\n",
    "    json.dump(results,file,)"
   ]
  },
  {
   "cell_type": "code",
   "execution_count": 228,
   "metadata": {},
   "outputs": [],
   "source": [
    "def stack_dfs(df,name, savename):\n",
    "    df2 = pd.DataFrame(\n",
    "    columns=[\" \",\"Molecule size\"]\n",
    "    )\n",
    "    df2[\" \"]=[name for i in results[savename][\"arr\"]]\n",
    "    df2[\"Molecule size\"]=results[savename][\"arr\"]\n",
    "\n",
    "    df = pd.concat([df,df2])\n",
    "    return df"
   ]
  },
  {
   "cell_type": "code",
   "execution_count": null,
   "metadata": {},
   "outputs": [],
   "source": []
  },
  {
   "cell_type": "code",
   "execution_count": 229,
   "metadata": {},
   "outputs": [],
   "source": [
    "def find_save(van_str):\n",
    "    for save in vanillasaves:\n",
    "        if van_str==save.split(\"_\")[0]:\n",
    "            return save\n",
    "    return \"not found\"\n",
    "def find_save_pine(van_str):\n",
    "    for save in pinesaves:\n",
    "        if van_str==save.split(\"_\")[0]:\n",
    "            return save\n",
    "    return \"not found\""
   ]
  },
  {
   "cell_type": "code",
   "execution_count": 230,
   "metadata": {},
   "outputs": [
    {
     "data": {
      "text/plain": [
       "['',\n",
       " 'vanilla8',\n",
       " 'vanilla9',\n",
       " 'vanilla10',\n",
       " '',\n",
       " 'vanilla1',\n",
       " 'vanilla2',\n",
       " 'vanilla11',\n",
       " 'vanilla12',\n",
       " 'vanilla3',\n",
       " 'vanilla4']"
      ]
     },
     "execution_count": 230,
     "metadata": {},
     "output_type": "execute_result"
    }
   ],
   "source": [
    "vanillalst"
   ]
  },
  {
   "cell_type": "code",
   "execution_count": 231,
   "metadata": {},
   "outputs": [
    {
     "name": "stdout",
     "output_type": "stream",
     "text": [
      "\n",
      "vanilla8\n",
      "vanilla9\n",
      "vanilla10\n",
      "\n",
      "vanilla1\n",
      "vanilla2\n",
      "vanilla11\n",
      "vanilla12\n",
      "vanilla3\n",
      "vanilla4\n"
     ]
    },
    {
     "name": "stderr",
     "output_type": "stream",
     "text": [
      "C:\\Users\\paulj\\AppData\\Local\\Temp\\ipykernel_11188\\258545793.py:22: FutureWarning: \n",
      "\n",
      "Passing `palette` without assigning `hue` is deprecated and will be removed in v0.14.0. Assign the `y` variable to `hue` and set `legend=False` for the same effect.\n",
      "\n",
      "  sns.boxplot(x=df[\"Molecule size\"], y=df[\" \"], palette='Set2')\n"
     ]
    },
    {
     "data": {
      "image/png": "[encoded data removed]",
      "text/plain": [
       "<Figure size 640x480 with 1 Axes>"
      ]
     },
     "metadata": {},
     "output_type": "display_data"
    }
   ],
   "source": [
    "\n",
    "df = pd.DataFrame(\n",
    "    columns=[\" \",\"Molecule size\"]\n",
    "    )\n",
    "df2 = pd.DataFrame(\n",
    "    columns=[\" \",\"Molecule size\"]\n",
    "    )\n",
    "dflst = [df,df2]\n",
    "ytickslst=[[],[]]\n",
    "yticks = []\n",
    "index=-1\n",
    "for name in vanillalst:\n",
    "    print(name)\n",
    "    \n",
    "    if name!=\"\":\n",
    "        savename = find_save(name)\n",
    "        dflst[index] = stack_dfs(dflst[index], name, savename)\n",
    "        ytickslst[index].append(vanillanames[name])\n",
    "    else:\n",
    "        index+=1\n",
    "dflst\n",
    "df=pd.concat(dflst)\n",
    "sns.boxplot(x=df[\"Molecule size\"], y=df[\" \"], palette='Set2')\n",
    "y_ticks = plt.yticks()[0]  # Get current y-tick positions\n",
    "plt.yticks(ticks=y_ticks, labels=['Atom-Based, '+i for i in ytickslst[0]]+['Fragment-Based, '+i for i in ytickslst[1]])\n",
    "\n",
    "# Manually add subheadings for the ranges\n",
    "#plt.text(0.1, 0, 'Atom-Based', fontsize=12, color='black', va='center', ha='right', fontweight='bold')\n",
    "#plt.text(1.9, 2, 'Fragment-Based', fontsize=12, color='black', va='center', ha='right', fontweight='bold')\n",
    "#plt.axhline(y=1.5, color='gray', linestyle='-', linewidth=1)\n",
    "plt.grid()\n",
    "plt.savefig(\"../images/vanillabox.pdf\",bbox_inches=\"tight\")\n"
   ]
  },
  {
   "cell_type": "code",
   "execution_count": null,
   "metadata": {},
   "outputs": [],
   "source": []
  },
  {
   "cell_type": "code",
   "execution_count": 232,
   "metadata": {},
   "outputs": [
    {
     "name": "stdout",
     "output_type": "stream",
     "text": [
      "\n",
      "pine1\n",
      "pine2\n"
     ]
    },
    {
     "name": "stderr",
     "output_type": "stream",
     "text": [
      "C:\\Users\\paulj\\AppData\\Local\\Temp\\ipykernel_11188\\2551454043.py:19: FutureWarning: \n",
      "\n",
      "Passing `palette` without assigning `hue` is deprecated and will be removed in v0.14.0. Assign the `y` variable to `hue` and set `legend=False` for the same effect.\n",
      "\n",
      "  sns.boxplot(x=df[\"Molecule size\"], y=df[\" \"], palette='Set2')\n"
     ]
    },
    {
     "data": {
      "image/png": "[encoded data removed]",
      "text/plain": [
       "<Figure size 640x480 with 1 Axes>"
      ]
     },
     "metadata": {},
     "output_type": "display_data"
    }
   ],
   "source": [
    "df = pd.DataFrame(\n",
    "    columns=[\" \",\"Molecule size\"]\n",
    "    )\n",
    "\n",
    "\n",
    "\n",
    "yticks = []\n",
    "index=-1\n",
    "for name in pinelst:\n",
    "    print(name)\n",
    "    \n",
    "    if name!=\"\":\n",
    "        savename = find_save_pine(name)\n",
    "        df = stack_dfs(df, name, savename)\n",
    "        yticks.append(pinenames[name])\n",
    "    else:\n",
    "        index+=1\n",
    "df\n",
    "sns.boxplot(x=df[\"Molecule size\"], y=df[\" \"], palette='Set2')\n",
    "y_ticks = plt.yticks()[0]  # Get current y-tick positions\n",
    "plt.yticks(ticks=y_ticks, labels=['Fragment-Based, '+i for i in yticks])\n",
    "\n",
    "# Manually add subheadings for the ranges\n",
    "#plt.text(0.1, 0, 'Atom-Based', fontsize=12, color='black', va='center', ha='right', fontweight='bold')\n",
    "#plt.text(1.9, 2, 'Fragment-Based', fontsize=12, color='black', va='center', ha='right', fontweight='bold')\n",
    "#plt.axhline(y=1.5, color='gray', linestyle='-', linewidth=1)\n",
    "plt.grid()\n",
    "plt.savefig(\"../images/pinebox.pdf\",bbox_inches=\"tight\")"
   ]
  },
  {
   "cell_type": "code",
   "execution_count": null,
   "metadata": {},
   "outputs": [],
   "source": []
  }
 ],
 "metadata": {
  "kernelspec": {
   "display_name": "venv",
   "language": "python",
   "name": "python3"
  },
  "language_info": {
   "codemirror_mode": {
    "name": "ipython",
    "version": 3
   },
   "file_extension": ".py",
   "mimetype": "text/x-python",
   "name": "python",
   "nbconvert_exporter": "python",
   "pygments_lexer": "ipython3",
   "version": "3.10.9"
  }
 },
 "nbformat": 4,
 "nbformat_minor": 2
}

{
 "cells": [
  {
   "cell_type": "code",
   "execution_count": 6,
   "metadata": {},
   "outputs": [],
   "source": [
    "from rdkit import Chem\n",
    "from gflownet.envs.frag_mol_env import FragMolBuildingEnvContext\n",
    "ctx = FragMolBuildingEnvContext()"
   ]
  },
  {
   "cell_type": "code",
   "execution_count": null,
   "metadata": {},
   "outputs": [],
   "source": [
    "target_smiles = \"[H]C(=O)C1=CC(OC)=C(O)C=C1\"\n",
    "evaluate_smiles = \"CCC\""
   ]
  },
  {
   "cell_type": "code",
   "execution_count": 57,
   "metadata": {},
   "outputs": [
    {
     "data": {
      "image/png": "[encoded data removed]",
      "text/plain": [
       "<rdkit.Chem.rdchem.Mol at 0x1581dbcd5b0>"
      ]
     },
     "execution_count": 57,
     "metadata": {},
     "output_type": "execute_result"
    }
   ],
   "source": [
    "Chem.MolFromSmiles('COc1cc(C=O)ccc1O')"
   ]
  },
  {
   "cell_type": "code",
   "execution_count": 4,
   "metadata": {},
   "outputs": [
    {
     "data": {
      "image/png": "[encoded data removed]",
      "text/plain": [
       "<rdkit.Chem.rdchem.Mol at 0x15877769460>"
      ]
     },
     "execution_count": 4,
     "metadata": {},
     "output_type": "execute_result"
    }
   ],
   "source": [
    "target_mol = Chem.MolFromSmiles(target_smiles)\n",
    "evaluate_mol = Chem.MolFromSmiles(evaluate_smiles)\n",
    "evaluate_mol"
   ]
  },
  {
   "cell_type": "code",
   "execution_count": 58,
   "metadata": {},
   "outputs": [
    {
     "data": {
      "image/png": "[encoded data removed]",
      "text/plain": [
       "<rdkit.Chem.rdchem.Mol at 0x15877769310>"
      ]
     },
     "execution_count": 58,
     "metadata": {},
     "output_type": "execute_result"
    }
   ],
   "source": [
    "target_mol"
   ]
  },
  {
   "cell_type": "code",
   "execution_count": 13,
   "metadata": {},
   "outputs": [
    {
     "data": {
      "text/plain": [
       "rdkit.Chem.rdchem.Mol"
      ]
     },
     "execution_count": 13,
     "metadata": {},
     "output_type": "execute_result"
    }
   ],
   "source": [
    "type(target_mol)"
   ]
  },
  {
   "cell_type": "code",
   "execution_count": 11,
   "metadata": {},
   "outputs": [],
   "source": [
    "target_graph = ctx.obj_to_graph(target_mol)\n",
    "evaluate_graph = ctx.obj_to_graph(evaluate_mol)"
   ]
  },
  {
   "cell_type": "code",
   "execution_count": 15,
   "metadata": {},
   "outputs": [],
   "source": [
    "targed_id = Chem.RDKFingerprint(target_mol)\n",
    "evaluate_id = Chem.RDKFingerprint(evaluate_mol)"
   ]
  },
  {
   "cell_type": "code",
   "execution_count": 10,
   "metadata": {},
   "outputs": [],
   "source": [
    "from rdkit.Chem.AtomPairs.Utils import CosineSimilarity"
   ]
  },
  {
   "cell_type": "code",
   "execution_count": 17,
   "metadata": {},
   "outputs": [
    {
     "data": {
      "text/plain": [
       "1.0"
      ]
     },
     "execution_count": 17,
     "metadata": {},
     "output_type": "execute_result"
    }
   ],
   "source": [
    "CosineSimilarity(targed_id,targed_id)"
   ]
  },
  {
   "cell_type": "code",
   "execution_count": 18,
   "metadata": {},
   "outputs": [
    {
     "data": {
      "text/html": [
       "<div>\n",
       "<style scoped>\n",
       "    .dataframe tbody tr th:only-of-type {\n",
       "        vertical-align: middle;\n",
       "    }\n",
       "\n",
       "    .dataframe tbody tr th {\n",
       "        vertical-align: top;\n",
       "    }\n",
       "\n",
       "    .dataframe thead th {\n",
       "        text-align: right;\n",
       "    }\n",
       "</style>\n",
       "<table border=\"1\" class=\"dataframe\">\n",
       "  <thead>\n",
       "    <tr style=\"text-align: right;\">\n",
       "      <th></th>\n",
       "      <th>nonStereoSMILES</th>\n",
       "      <th>descriptors</th>\n",
       "      <th>alcoholic</th>\n",
       "      <th>aldehydic</th>\n",
       "      <th>alliaceous</th>\n",
       "      <th>almond</th>\n",
       "      <th>amber</th>\n",
       "      <th>animal</th>\n",
       "      <th>anisic</th>\n",
       "      <th>apple</th>\n",
       "      <th>...</th>\n",
       "      <th>tropical</th>\n",
       "      <th>vanilla</th>\n",
       "      <th>vegetable</th>\n",
       "      <th>vetiver</th>\n",
       "      <th>violet</th>\n",
       "      <th>warm</th>\n",
       "      <th>waxy</th>\n",
       "      <th>weedy</th>\n",
       "      <th>winey</th>\n",
       "      <th>woody</th>\n",
       "    </tr>\n",
       "  </thead>\n",
       "  <tbody>\n",
       "    <tr>\n",
       "      <th>0</th>\n",
       "      <td>CC(O)CN</td>\n",
       "      <td>fishy</td>\n",
       "      <td>0</td>\n",
       "      <td>0</td>\n",
       "      <td>0</td>\n",
       "      <td>0</td>\n",
       "      <td>0</td>\n",
       "      <td>0</td>\n",
       "      <td>0</td>\n",
       "      <td>0</td>\n",
       "      <td>...</td>\n",
       "      <td>0</td>\n",
       "      <td>0</td>\n",
       "      <td>0</td>\n",
       "      <td>0</td>\n",
       "      <td>0</td>\n",
       "      <td>0</td>\n",
       "      <td>0</td>\n",
       "      <td>0</td>\n",
       "      <td>0</td>\n",
       "      <td>0</td>\n",
       "    </tr>\n",
       "    <tr>\n",
       "      <th>1</th>\n",
       "      <td>CCC(=O)C(=O)O</td>\n",
       "      <td>fatty;lactonic;sweet;caramellic;creamy</td>\n",
       "      <td>0</td>\n",
       "      <td>0</td>\n",
       "      <td>0</td>\n",
       "      <td>0</td>\n",
       "      <td>0</td>\n",
       "      <td>0</td>\n",
       "      <td>0</td>\n",
       "      <td>0</td>\n",
       "      <td>...</td>\n",
       "      <td>0</td>\n",
       "      <td>0</td>\n",
       "      <td>0</td>\n",
       "      <td>0</td>\n",
       "      <td>0</td>\n",
       "      <td>0</td>\n",
       "      <td>0</td>\n",
       "      <td>0</td>\n",
       "      <td>0</td>\n",
       "      <td>0</td>\n",
       "    </tr>\n",
       "    <tr>\n",
       "      <th>2</th>\n",
       "      <td>O=C(O)CCc1ccccc1</td>\n",
       "      <td>rose;floral;fatty;sweet;musk;cinnamon;balsamic</td>\n",
       "      <td>0</td>\n",
       "      <td>0</td>\n",
       "      <td>0</td>\n",
       "      <td>0</td>\n",
       "      <td>0</td>\n",
       "      <td>0</td>\n",
       "      <td>0</td>\n",
       "      <td>0</td>\n",
       "      <td>...</td>\n",
       "      <td>0</td>\n",
       "      <td>0</td>\n",
       "      <td>0</td>\n",
       "      <td>0</td>\n",
       "      <td>0</td>\n",
       "      <td>0</td>\n",
       "      <td>0</td>\n",
       "      <td>0</td>\n",
       "      <td>0</td>\n",
       "      <td>0</td>\n",
       "    </tr>\n",
       "    <tr>\n",
       "      <th>3</th>\n",
       "      <td>OCc1ccc(O)cc1</td>\n",
       "      <td>medicinal;phenolic;fruity;nutty;bitter;sweet;a...</td>\n",
       "      <td>0</td>\n",
       "      <td>0</td>\n",
       "      <td>0</td>\n",
       "      <td>1</td>\n",
       "      <td>0</td>\n",
       "      <td>0</td>\n",
       "      <td>0</td>\n",
       "      <td>0</td>\n",
       "      <td>...</td>\n",
       "      <td>0</td>\n",
       "      <td>0</td>\n",
       "      <td>0</td>\n",
       "      <td>0</td>\n",
       "      <td>0</td>\n",
       "      <td>0</td>\n",
       "      <td>0</td>\n",
       "      <td>0</td>\n",
       "      <td>0</td>\n",
       "      <td>0</td>\n",
       "    </tr>\n",
       "    <tr>\n",
       "      <th>4</th>\n",
       "      <td>O=Cc1ccc(O)cc1</td>\n",
       "      <td>phenolic;woody;nutty;vanilla;hay;metallic;swee...</td>\n",
       "      <td>0</td>\n",
       "      <td>0</td>\n",
       "      <td>0</td>\n",
       "      <td>1</td>\n",
       "      <td>0</td>\n",
       "      <td>0</td>\n",
       "      <td>0</td>\n",
       "      <td>0</td>\n",
       "      <td>...</td>\n",
       "      <td>0</td>\n",
       "      <td>1</td>\n",
       "      <td>0</td>\n",
       "      <td>0</td>\n",
       "      <td>0</td>\n",
       "      <td>0</td>\n",
       "      <td>0</td>\n",
       "      <td>0</td>\n",
       "      <td>0</td>\n",
       "      <td>1</td>\n",
       "    </tr>\n",
       "  </tbody>\n",
       "</table>\n",
       "<p>5 rows × 140 columns</p>\n",
       "</div>"
      ],
      "text/plain": [
       "    nonStereoSMILES                                        descriptors  \\\n",
       "0           CC(O)CN                                              fishy   \n",
       "1     CCC(=O)C(=O)O             fatty;lactonic;sweet;caramellic;creamy   \n",
       "2  O=C(O)CCc1ccccc1     rose;floral;fatty;sweet;musk;cinnamon;balsamic   \n",
       "3     OCc1ccc(O)cc1  medicinal;phenolic;fruity;nutty;bitter;sweet;a...   \n",
       "4    O=Cc1ccc(O)cc1  phenolic;woody;nutty;vanilla;hay;metallic;swee...   \n",
       "\n",
       "   alcoholic  aldehydic  alliaceous  almond  amber  animal  anisic  apple  \\\n",
       "0          0          0           0       0      0       0       0      0   \n",
       "1          0          0           0       0      0       0       0      0   \n",
       "2          0          0           0       0      0       0       0      0   \n",
       "3          0          0           0       1      0       0       0      0   \n",
       "4          0          0           0       1      0       0       0      0   \n",
       "\n",
       "   ...  tropical  vanilla  vegetable  vetiver  violet  warm  waxy  weedy  \\\n",
       "0  ...         0        0          0        0       0     0     0      0   \n",
       "1  ...         0        0          0        0       0     0     0      0   \n",
       "2  ...         0        0          0        0       0     0     0      0   \n",
       "3  ...         0        0          0        0       0     0     0      0   \n",
       "4  ...         0        1          0        0       0     0     0      0   \n",
       "\n",
       "   winey  woody  \n",
       "0      0      0  \n",
       "1      0      0  \n",
       "2      0      0  \n",
       "3      0      0  \n",
       "4      0      1  \n",
       "\n",
       "[5 rows x 140 columns]"
      ]
     },
     "execution_count": 18,
     "metadata": {},
     "output_type": "execute_result"
    }
   ],
   "source": [
    "import pandas as pd \n",
    "\n",
    "df=pd.read_csv(\"data.csv\")\n",
    "df.head()"
   ]
  },
  {
   "cell_type": "code",
   "execution_count": 22,
   "metadata": {},
   "outputs": [
    {
     "data": {
      "text/html": [
       "<div>\n",
       "<style scoped>\n",
       "    .dataframe tbody tr th:only-of-type {\n",
       "        vertical-align: middle;\n",
       "    }\n",
       "\n",
       "    .dataframe tbody tr th {\n",
       "        vertical-align: top;\n",
       "    }\n",
       "\n",
       "    .dataframe thead th {\n",
       "        text-align: right;\n",
       "    }\n",
       "</style>\n",
       "<table border=\"1\" class=\"dataframe\">\n",
       "  <thead>\n",
       "    <tr style=\"text-align: right;\">\n",
       "      <th></th>\n",
       "      <th>nonStereoSMILES</th>\n",
       "      <th>descriptors</th>\n",
       "      <th>alcoholic</th>\n",
       "      <th>aldehydic</th>\n",
       "      <th>alliaceous</th>\n",
       "      <th>almond</th>\n",
       "      <th>amber</th>\n",
       "      <th>animal</th>\n",
       "      <th>anisic</th>\n",
       "      <th>apple</th>\n",
       "      <th>...</th>\n",
       "      <th>tropical</th>\n",
       "      <th>vanilla</th>\n",
       "      <th>vegetable</th>\n",
       "      <th>vetiver</th>\n",
       "      <th>violet</th>\n",
       "      <th>warm</th>\n",
       "      <th>waxy</th>\n",
       "      <th>weedy</th>\n",
       "      <th>winey</th>\n",
       "      <th>woody</th>\n",
       "    </tr>\n",
       "  </thead>\n",
       "  <tbody>\n",
       "    <tr>\n",
       "      <th>4</th>\n",
       "      <td>O=Cc1ccc(O)cc1</td>\n",
       "      <td>phenolic;woody;nutty;vanilla;hay;metallic;swee...</td>\n",
       "      <td>0</td>\n",
       "      <td>0</td>\n",
       "      <td>0</td>\n",
       "      <td>1</td>\n",
       "      <td>0</td>\n",
       "      <td>0</td>\n",
       "      <td>0</td>\n",
       "      <td>0</td>\n",
       "      <td>...</td>\n",
       "      <td>0</td>\n",
       "      <td>1</td>\n",
       "      <td>0</td>\n",
       "      <td>0</td>\n",
       "      <td>0</td>\n",
       "      <td>0</td>\n",
       "      <td>0</td>\n",
       "      <td>0</td>\n",
       "      <td>0</td>\n",
       "      <td>1</td>\n",
       "    </tr>\n",
       "    <tr>\n",
       "      <th>26</th>\n",
       "      <td>COc1ccccc1O</td>\n",
       "      <td>medicinal;savory;phenolic;woody;smoky;vanilla;...</td>\n",
       "      <td>0</td>\n",
       "      <td>0</td>\n",
       "      <td>0</td>\n",
       "      <td>0</td>\n",
       "      <td>0</td>\n",
       "      <td>0</td>\n",
       "      <td>0</td>\n",
       "      <td>0</td>\n",
       "      <td>...</td>\n",
       "      <td>0</td>\n",
       "      <td>1</td>\n",
       "      <td>0</td>\n",
       "      <td>0</td>\n",
       "      <td>0</td>\n",
       "      <td>0</td>\n",
       "      <td>0</td>\n",
       "      <td>0</td>\n",
       "      <td>0</td>\n",
       "      <td>1</td>\n",
       "    </tr>\n",
       "    <tr>\n",
       "      <th>32</th>\n",
       "      <td>O=C1CCc2ccccc2O1</td>\n",
       "      <td>herbal;nutty;vanilla;coumarinic;hay;tobacco;sw...</td>\n",
       "      <td>0</td>\n",
       "      <td>0</td>\n",
       "      <td>0</td>\n",
       "      <td>0</td>\n",
       "      <td>0</td>\n",
       "      <td>0</td>\n",
       "      <td>0</td>\n",
       "      <td>0</td>\n",
       "      <td>...</td>\n",
       "      <td>0</td>\n",
       "      <td>1</td>\n",
       "      <td>0</td>\n",
       "      <td>0</td>\n",
       "      <td>0</td>\n",
       "      <td>0</td>\n",
       "      <td>0</td>\n",
       "      <td>0</td>\n",
       "      <td>0</td>\n",
       "      <td>0</td>\n",
       "    </tr>\n",
       "    <tr>\n",
       "      <th>64</th>\n",
       "      <td>COc1cc(C=O)ccc1O</td>\n",
       "      <td>chocolate;vanilla;creamy;sweet</td>\n",
       "      <td>0</td>\n",
       "      <td>0</td>\n",
       "      <td>0</td>\n",
       "      <td>0</td>\n",
       "      <td>0</td>\n",
       "      <td>0</td>\n",
       "      <td>0</td>\n",
       "      <td>0</td>\n",
       "      <td>...</td>\n",
       "      <td>0</td>\n",
       "      <td>1</td>\n",
       "      <td>0</td>\n",
       "      <td>0</td>\n",
       "      <td>0</td>\n",
       "      <td>0</td>\n",
       "      <td>0</td>\n",
       "      <td>0</td>\n",
       "      <td>0</td>\n",
       "      <td>0</td>\n",
       "    </tr>\n",
       "    <tr>\n",
       "      <th>67</th>\n",
       "      <td>COc1cc(C(C)=O)ccc1O</td>\n",
       "      <td>vanilla;sweet</td>\n",
       "      <td>0</td>\n",
       "      <td>0</td>\n",
       "      <td>0</td>\n",
       "      <td>0</td>\n",
       "      <td>0</td>\n",
       "      <td>0</td>\n",
       "      <td>0</td>\n",
       "      <td>0</td>\n",
       "      <td>...</td>\n",
       "      <td>0</td>\n",
       "      <td>1</td>\n",
       "      <td>0</td>\n",
       "      <td>0</td>\n",
       "      <td>0</td>\n",
       "      <td>0</td>\n",
       "      <td>0</td>\n",
       "      <td>0</td>\n",
       "      <td>0</td>\n",
       "      <td>0</td>\n",
       "    </tr>\n",
       "  </tbody>\n",
       "</table>\n",
       "<p>5 rows × 140 columns</p>\n",
       "</div>"
      ],
      "text/plain": [
       "        nonStereoSMILES                                        descriptors  \\\n",
       "4        O=Cc1ccc(O)cc1  phenolic;woody;nutty;vanilla;hay;metallic;swee...   \n",
       "26          COc1ccccc1O  medicinal;savory;phenolic;woody;smoky;vanilla;...   \n",
       "32     O=C1CCc2ccccc2O1  herbal;nutty;vanilla;coumarinic;hay;tobacco;sw...   \n",
       "64     COc1cc(C=O)ccc1O                     chocolate;vanilla;creamy;sweet   \n",
       "67  COc1cc(C(C)=O)ccc1O                                      vanilla;sweet   \n",
       "\n",
       "    alcoholic  aldehydic  alliaceous  almond  amber  animal  anisic  apple  \\\n",
       "4           0          0           0       1      0       0       0      0   \n",
       "26          0          0           0       0      0       0       0      0   \n",
       "32          0          0           0       0      0       0       0      0   \n",
       "64          0          0           0       0      0       0       0      0   \n",
       "67          0          0           0       0      0       0       0      0   \n",
       "\n",
       "    ...  tropical  vanilla  vegetable  vetiver  violet  warm  waxy  weedy  \\\n",
       "4   ...         0        1          0        0       0     0     0      0   \n",
       "26  ...         0        1          0        0       0     0     0      0   \n",
       "32  ...         0        1          0        0       0     0     0      0   \n",
       "64  ...         0        1          0        0       0     0     0      0   \n",
       "67  ...         0        1          0        0       0     0     0      0   \n",
       "\n",
       "    winey  woody  \n",
       "4       0      1  \n",
       "26      0      1  \n",
       "32      0      0  \n",
       "64      0      0  \n",
       "67      0      0  \n",
       "\n",
       "[5 rows x 140 columns]"
      ]
     },
     "execution_count": 22,
     "metadata": {},
     "output_type": "execute_result"
    }
   ],
   "source": [
    "vanilla_mols = df.loc[df['vanilla'] == 1]\n",
    "vanilla_mols.head()"
   ]
  },
  {
   "cell_type": "code",
   "execution_count": 23,
   "metadata": {},
   "outputs": [
    {
     "data": {
      "text/plain": [
       "111"
      ]
     },
     "execution_count": 23,
     "metadata": {},
     "output_type": "execute_result"
    }
   ],
   "source": [
    "len(vanilla_mols)"
   ]
  },
  {
   "cell_type": "code",
   "execution_count": 24,
   "metadata": {},
   "outputs": [
    {
     "name": "stderr",
     "output_type": "stream",
     "text": [
      "No normalization for SPS. Feature removed!\n",
      "No normalization for AvgIpc. Feature removed!\n",
      "Skipped loading some Tensorflow models, missing a dependency. No module named 'tensorflow'\n",
      "\u001b[34m\u001b[1mwandb\u001b[0m: \u001b[33mWARNING\u001b[0m W&B installed but not logged in.  Run `wandb login` or set the WANDB_API_KEY env variable.\n",
      "Skipped loading modules with transformers dependency. No module named 'transformers'\n",
      "cannot import name 'HuggingFaceModel' from 'deepchem.models.torch_models' (d:\\Dokumenter\\Skole\\Prosjektoppgave\\prosjektKopi\\pom_cpu-model\\venv\\lib\\site-packages\\deepchem\\models\\torch_models\\__init__.py)\n",
      "Skipped loading modules with pytorch-lightning dependency, missing a dependency. No module named 'lightning'\n",
      "Skipped loading some Jax models, missing a dependency. No module named 'jax'\n",
      "Skipped loading some PyTorch models, missing a dependency. No module named 'tensorflow'\n"
     ]
    }
   ],
   "source": [
    "from pom_models.functions import fragance_propabilities_from_smiles"
   ]
  },
  {
   "cell_type": "code",
   "execution_count": 61,
   "metadata": {},
   "outputs": [
    {
     "name": "stderr",
     "output_type": "stream",
     "text": [
      "d:\\Dokumenter\\Skole\\Prosjektoppgave\\prosjektKopi\\pom_cpu-model\\venv\\lib\\site-packages\\deepchem\\models\\torch_models\\torch_model.py:1078: FutureWarning: You are using `torch.load` with `weights_only=False` (the current default value), which uses the default pickle module implicitly. It is possible to construct malicious pickle data which will execute arbitrary code during unpickling (See https://github.com/pytorch/pytorch/blob/main/SECURITY.md#untrusted-models for more details). In a future release, the default value for `weights_only` will be flipped to `True`. This limits the functions that could be executed during unpickling. Arbitrary objects will no longer be allowed to be loaded via this mode unless they are explicitly allowlisted by the user via `torch.serialization.add_safe_globals`. We recommend you start setting `weights_only=True` for any use case where you don't have full control of the loaded file. Please open an issue on GitHub for any issues related to this experimental feature.\n",
      "  data = torch.load(checkpoint, map_location=self.device)\n"
     ]
    }
   ],
   "source": [
    "evaluate_vec = fragance_propabilities_from_smiles(target_smiles)[0]"
   ]
  },
  {
   "cell_type": "code",
   "execution_count": 62,
   "metadata": {},
   "outputs": [
    {
     "data": {
      "text/plain": [
       "array([0.04575705, 0.04282942, 0.05341665, 0.2864027 , 0.03292181,\n",
       "       0.20288868, 0.36172262, 0.02111002, 0.04237434, 0.317042  ,\n",
       "       0.4279455 , 0.03573177, 0.03719727, 0.02371974, 0.13851587,\n",
       "       0.32038513, 0.02894411, 0.01613994, 0.32080555, 0.09608915,\n",
       "       0.03982432, 0.08091616, 0.27430353, 0.02159856, 0.07350694,\n",
       "       0.03478025, 0.05178089, 0.25843382, 0.11839368, 0.21073033,\n",
       "       0.06080894, 0.06195458, 0.34229103, 0.06232229, 0.146159  ,\n",
       "       0.16066003, 0.01784374, 0.05046922, 0.09188339, 0.07404198,\n",
       "       0.28687143, 0.3541201 , 0.00835921, 0.10641307, 0.16819969,\n",
       "       0.1959213 , 0.18295589, 0.06957998, 0.05369797, 0.06176599,\n",
       "       0.44382554, 0.099797  , 0.04375359, 0.34240264, 0.04317854,\n",
       "       0.04487146, 0.06809819, 0.1567298 , 0.02871715, 0.03830222,\n",
       "       0.12342923, 0.30967513, 0.28897983, 0.04847127, 0.24057145,\n",
       "       0.11724697, 0.05389829, 0.05945813, 0.02251486, 0.02622348,\n",
       "       0.09840047, 0.01832962, 0.05089313, 0.19233458, 0.02440911,\n",
       "       0.03873232, 0.08897625, 0.10483997, 0.42817798, 0.06610653,\n",
       "       0.1350458 , 0.09801025, 0.06511155, 0.01436159, 0.05929188,\n",
       "       0.07033479, 0.3142712 , 0.02289042, 0.35918513, 0.11876271,\n",
       "       0.0813908 , 0.02574145, 0.1128162 , 0.13099825, 0.06884202,\n",
       "       0.07183688, 0.05053759, 0.0220471 , 0.74288285, 0.02075444,\n",
       "       0.05096442, 0.05944617, 0.04386013, 0.02740695, 0.42564523,\n",
       "       0.22570969, 0.05380435, 0.04117484, 0.04505621, 0.13925046,\n",
       "       0.09873389, 0.07651279, 0.02396113, 0.12061376, 0.1919004 ,\n",
       "       0.47502732, 0.0391571 , 0.0662094 , 0.09469683, 0.58431464,\n",
       "       0.13115093, 0.06589254, 0.03034441, 0.740703  , 0.10499658,\n",
       "       0.02870987, 0.19349252, 0.01764768, 0.09963634, 0.6608363 ,\n",
       "       0.04891734, 0.06998598, 0.0240582 , 0.23647371, 0.06107602,\n",
       "       0.02455438, 0.11874472, 0.43846476], dtype=float32)"
      ]
     },
     "execution_count": 62,
     "metadata": {},
     "output_type": "execute_result"
    }
   ],
   "source": [
    "evaluate_vec"
   ]
  },
  {
   "cell_type": "code",
   "execution_count": 63,
   "metadata": {},
   "outputs": [],
   "source": [
    "target_vec = df.loc[64].to_numpy()[2:]"
   ]
  },
  {
   "cell_type": "code",
   "execution_count": 64,
   "metadata": {},
   "outputs": [
    {
     "data": {
      "text/plain": [
       "'COc1cc(C=O)ccc1O'"
      ]
     },
     "execution_count": 64,
     "metadata": {},
     "output_type": "execute_result"
    }
   ],
   "source": [
    "df.loc[64].to_numpy()[0]"
   ]
  },
  {
   "cell_type": "code",
   "execution_count": 65,
   "metadata": {},
   "outputs": [
    {
     "data": {
      "text/plain": [
       "0.0"
      ]
     },
     "execution_count": 65,
     "metadata": {},
     "output_type": "execute_result"
    }
   ],
   "source": [
    "CosineSimilarity(target_vec,evaluate_vec)"
   ]
  },
  {
   "cell_type": "code",
   "execution_count": 55,
   "metadata": {},
   "outputs": [
    {
     "name": "stdout",
     "output_type": "stream",
     "text": [
      "0\n",
      "1\n",
      "2\n",
      "3\n",
      "4\n",
      "5\n",
      "6\n",
      "7\n",
      "8\n",
      "9\n",
      "10\n",
      "11\n",
      "12\n",
      "13\n",
      "14\n",
      "15\n",
      "16\n",
      "17\n",
      "18\n",
      "19\n",
      "20\n",
      "21\n",
      "22\n",
      "23\n",
      "24\n",
      "25\n",
      "26\n",
      "27\n",
      "28\n",
      "29\n",
      "30\n",
      "31\n",
      "32\n",
      "33\n",
      "34\n",
      "35\n",
      "36\n",
      "37\n",
      "38\n",
      "39\n",
      "40\n",
      "41\n",
      "42\n",
      "43\n",
      "44\n",
      "45\n",
      "46\n",
      "47\n",
      "48\n",
      "49\n",
      "50\n",
      "51\n",
      "52\n",
      "53\n",
      "54\n",
      "55\n",
      "56\n",
      "57\n",
      "58\n",
      "59\n",
      "60\n",
      "61\n",
      "62\n",
      "63\n",
      "64\n",
      "64\n"
     ]
    }
   ],
   "source": [
    "v = Chem.MolToSmiles(target_mol)\n",
    "for i in range(len(df[\"nonStereoSMILES\"])):\n",
    "    print(i)\n",
    "    moldf = Chem.MolFromSmiles(df[\"nonStereoSMILES\"][i])\n",
    "    molsmiles = Chem.MolToSmiles(moldf)\n",
    "\n",
    "    if molsmiles==v:\n",
    "        print(i)\n",
    "        break    "
   ]
  },
  {
   "cell_type": "code",
   "execution_count": 54,
   "metadata": {},
   "outputs": [
    {
     "data": {
      "text/plain": [
       "4983"
      ]
     },
     "execution_count": 54,
     "metadata": {},
     "output_type": "execute_result"
    }
   ],
   "source": [
    "len(df)"
   ]
  }
 ],
 "metadata": {
  "kernelspec": {
   "display_name": "venv",
   "language": "python",
   "name": "python3"
  },
  "language_info": {
   "codemirror_mode": {
    "name": "ipython",
    "version": 3
   },
   "file_extension": ".py",
   "mimetype": "text/x-python",
   "name": "python",
   "nbconvert_exporter": "python",
   "pygments_lexer": "ipython3",
   "version": "3.10.9"
  }
 },
 "nbformat": 4,
 "nbformat_minor": 2
}

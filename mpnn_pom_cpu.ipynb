{
  "cells": [
    {
      "cell_type": "markdown",
      "metadata": {},
      "source": [
        "### How to run this file\n",
        "\n",
        "Create a virtual environment:\n",
        "\n",
        "`py -3.9 -m venv venv`\n",
        "\n",
        "\n",
        "Activate the environment \n",
        "\n",
        "`.\\venv\\Scripts\\activate`\n",
        "\n",
        "Install working version of dgl\n",
        "\n",
        "`pip install dgl-2.0.0-cp39-cp39-win_amd64.whl`\n",
        "\n",
        "Install openpom\n",
        "\n",
        "`pip install openpom`\n"
      ]
    },
    {
      "cell_type": "code",
      "execution_count": 39,
      "metadata": {
        "colab": {
          "base_uri": "https://localhost:8080/"
        },
        "id": "gONoc9hH_n13",
        "outputId": "7acb96d7-4dba-4f1b-ded6-c1b3591467b9"
      },
      "outputs": [],
      "source": [
        "#!pip install openpom\n",
        "#!pip install  dgl -f https://data.dgl.ai/wheels/torch-2.4/repo.html\n",
        "import deepchem as dc\n",
        "from openpom.feat.graph_featurizer import GraphFeaturizer, GraphConvConstants\n",
        "from openpom.utils.data_utils import get_class_imbalance_ratio\n",
        "#from openpom.models.mpnn_pom import MPNNPOMModel\n",
        "from datetime import datetime"
      ]
    },
    {
      "cell_type": "code",
      "execution_count": 40,
      "metadata": {},
      "outputs": [],
      "source": [
        "from pom_models.models import MPNNPOMModel\n",
        "import pandas as pd"
      ]
    },
    {
      "cell_type": "code",
      "execution_count": 41,
      "metadata": {
        "id": "B4DtOK5lAC0B"
      },
      "outputs": [],
      "source": [
        "#import deepchem as dc\n",
        "#from openpom.feat.graph_featurizer import GraphFeaturizer\n",
        "\n",
        "# Define the SMILES string to predict\n",
        "single_smiles = 'COC1=C(C=CC(=C1)C=O)O'  # Replace 'CCO' with the actual SMILES string\n",
        "\n",
        "# Featurize the SMILES string\n",
        "featurizer = GraphFeaturizer()\n",
        "single_molecule = featurizer.featurize([single_smiles])\n",
        "\n",
        "# Create a NumpyDataset for the single molecule\n",
        "single_dataset = dc.data.NumpyDataset(single_molecule)"
      ]
    },
    {
      "cell_type": "markdown",
      "metadata": {},
      "source": [
        "The train_ratios parameter contains a list tacking the occurence of each fragance note compared with the most common note. The most common one has a ratio of 1 all other values are calculated by dividing the amount of molecules with a certain fragrance note with the amount of molecules with the most common note.\n",
        "\n",
        "It is passed to MPNNPOMModel\n",
        "\n",
        "\n",
        "```python\n",
        "class_imbalance_ratio: Optional[List]\n",
        "            List of imbalance ratios per task.\n",
        "```\n",
        "\n",
        "The ratios are saved in `train_ratios.csv`. "
      ]
    },
    {
      "cell_type": "code",
      "execution_count": 42,
      "metadata": {},
      "outputs": [
        {
          "data": {
            "text/html": [
              "<div>\n",
              "<style scoped>\n",
              "    .dataframe tbody tr th:only-of-type {\n",
              "        vertical-align: middle;\n",
              "    }\n",
              "\n",
              "    .dataframe tbody tr th {\n",
              "        vertical-align: top;\n",
              "    }\n",
              "\n",
              "    .dataframe thead th {\n",
              "        text-align: right;\n",
              "    }\n",
              "</style>\n",
              "<table border=\"1\" class=\"dataframe\">\n",
              "  <thead>\n",
              "    <tr style=\"text-align: right;\">\n",
              "      <th></th>\n",
              "      <th>train_ratios</th>\n",
              "    </tr>\n",
              "  </thead>\n",
              "  <tbody>\n",
              "    <tr>\n",
              "      <th>0</th>\n",
              "      <td>0.055848</td>\n",
              "    </tr>\n",
              "    <tr>\n",
              "      <th>1</th>\n",
              "      <td>0.074244</td>\n",
              "    </tr>\n",
              "    <tr>\n",
              "      <th>2</th>\n",
              "      <td>0.065703</td>\n",
              "    </tr>\n",
              "    <tr>\n",
              "      <th>3</th>\n",
              "      <td>0.044021</td>\n",
              "    </tr>\n",
              "    <tr>\n",
              "      <th>4</th>\n",
              "      <td>0.052562</td>\n",
              "    </tr>\n",
              "  </tbody>\n",
              "</table>\n",
              "</div>"
            ],
            "text/plain": [
              "   train_ratios\n",
              "0      0.055848\n",
              "1      0.074244\n",
              "2      0.065703\n",
              "3      0.044021\n",
              "4      0.052562"
            ]
          },
          "execution_count": 42,
          "metadata": {},
          "output_type": "execute_result"
        }
      ],
      "source": [
        "df = pd.read_csv(\"train_ratios.csv\", index_col=0)\n",
        "df.head()"
      ]
    },
    {
      "cell_type": "code",
      "execution_count": 43,
      "metadata": {},
      "outputs": [],
      "source": [
        "train_ratios = list(df[\"train_ratios\"])"
      ]
    },
    {
      "cell_type": "code",
      "execution_count": 44,
      "metadata": {},
      "outputs": [
        {
          "data": {
            "text/plain": [
              "12.64454664914586"
            ]
          },
          "execution_count": 44,
          "metadata": {},
          "output_type": "execute_result"
        }
      ],
      "source": [
        "sum(train_ratios)"
      ]
    },
    {
      "cell_type": "code",
      "execution_count": 45,
      "metadata": {
        "id": "xms3gKTCAeJ-"
      },
      "outputs": [],
      "source": [
        "# initialize model\n",
        "\n",
        "model = MPNNPOMModel(n_tasks = 138,\n",
        "                            batch_size=128,\n",
        "                            learning_rate=1e-4,\n",
        "                            class_imbalance_ratio = train_ratios,\n",
        "                            loss_aggr_type = 'sum',\n",
        "                            node_out_feats = 100,\n",
        "                            edge_hidden_feats = 75,\n",
        "                            edge_out_feats = 100,\n",
        "                            num_step_message_passing = 5,\n",
        "                            mpnn_residual = True,\n",
        "                            message_aggregator_type = 'sum',\n",
        "                            mode = 'classification',\n",
        "                            number_atom_features = GraphConvConstants.ATOM_FDIM,\n",
        "                            number_bond_features = GraphConvConstants.BOND_FDIM,\n",
        "                            n_classes = 1,\n",
        "                            readout_type = 'set2set',\n",
        "                            num_step_set2set = 3,\n",
        "                            num_layer_set2set = 2,\n",
        "                            ffn_hidden_list= [392, 392],\n",
        "                            ffn_embeddings = 256,\n",
        "                            ffn_activation = 'relu',\n",
        "                            ffn_dropout_p = 0.12,\n",
        "                            ffn_dropout_at_input_no_act = False,\n",
        "                            weight_decay = 1e-5,\n",
        "                            self_loop = False,\n",
        "                            optimizer_name = 'adam',\n",
        "                            log_frequency = 32,\n",
        "                            model_dir = 'data',\n",
        "                            device_name='cpu')"
      ]
    },
    {
      "cell_type": "code",
      "execution_count": 46,
      "metadata": {
        "colab": {
          "base_uri": "https://localhost:8080/"
        },
        "id": "m0RUBd2ZAmqs",
        "outputId": "613a7ffa-51e6-48bd-f6b9-a1782a5a41fd"
      },
      "outputs": [
        {
          "name": "stdout",
          "output_type": "stream",
          "text": [
            "Predicted Probabilities for the 138 notes: [[0.04575704 0.04282943 0.05341665 0.28640267 0.0329218  0.20288868\n",
            "  0.36172265 0.02111001 0.04237433 0.317042   0.4279455  0.03573177\n",
            "  0.03719727 0.02371974 0.13851589 0.32038516 0.0289441  0.01613994\n",
            "  0.32080555 0.09608915 0.03982432 0.08091616 0.27430353 0.02159856\n",
            "  0.07350693 0.03478024 0.05178089 0.25843382 0.11839368 0.21073028\n",
            "  0.06080894 0.06195458 0.34229103 0.06232229 0.146159   0.16066001\n",
            "  0.01784373 0.0504692  0.09188339 0.07404196 0.28687137 0.35412017\n",
            "  0.00835921 0.10641305 0.16819969 0.1959213  0.18295585 0.06957997\n",
            "  0.05369798 0.06176599 0.44382554 0.099797   0.0437536  0.34240264\n",
            "  0.04317852 0.04487146 0.06809818 0.1567298  0.02871715 0.03830222\n",
            "  0.12342923 0.30967513 0.28897983 0.04847127 0.24057142 0.11724697\n",
            "  0.0538983  0.05945813 0.02251486 0.02622347 0.09840045 0.01832962\n",
            "  0.05089311 0.19233459 0.02440911 0.03873232 0.08897623 0.10484001\n",
            "  0.42817798 0.06610651 0.13504575 0.09801025 0.06511155 0.01436159\n",
            "  0.05929188 0.07033478 0.3142712  0.02289041 0.35918513 0.11876268\n",
            "  0.0813908  0.02574145 0.1128162  0.13099824 0.06884202 0.07183688\n",
            "  0.05053758 0.0220471  0.74288285 0.02075444 0.05096442 0.05944619\n",
            "  0.04386013 0.02740695 0.42564523 0.22570969 0.05380434 0.04117484\n",
            "  0.0450562  0.13925046 0.09873389 0.07651279 0.02396113 0.12061375\n",
            "  0.19190037 0.47502732 0.03915709 0.0662094  0.09469683 0.58431464\n",
            "  0.13115095 0.06589254 0.03034441 0.740703   0.10499656 0.02870986\n",
            "  0.1934925  0.01764768 0.09963637 0.6608363  0.04891734 0.06998596\n",
            "  0.0240582  0.23647371 0.06107602 0.02455437 0.11874472 0.43846476]]\n"
          ]
        },
        {
          "name": "stderr",
          "output_type": "stream",
          "text": [
            "d:\\Dokumenter\\Skole\\Prosjektoppgave\\prosjekt\\venv\\lib\\site-packages\\deepchem\\models\\torch_models\\torch_model.py:1078: FutureWarning: You are using `torch.load` with `weights_only=False` (the current default value), which uses the default pickle module implicitly. It is possible to construct malicious pickle data which will execute arbitrary code during unpickling (See https://github.com/pytorch/pytorch/blob/main/SECURITY.md#untrusted-models for more details). In a future release, the default value for `weights_only` will be flipped to `True`. This limits the functions that could be executed during unpickling. Arbitrary objects will no longer be allowed to be loaded via this mode unless they are explicitly allowlisted by the user via `torch.serialization.add_safe_globals`. We recommend you start setting `weights_only=True` for any use case where you don't have full control of the loaded file. Please open an issue on GitHub for any issues related to this experimental feature.\n",
            "  data = torch.load(checkpoint, map_location=self.device)\n"
          ]
        }
      ],
      "source": [
        "# Restore the model from the checkpoint\n",
        "model.restore()\n",
        "\n",
        "# Predict the probabilities for the single molecule\n",
        "predicted_probabilities = model.predict(single_dataset)\n",
        "\n",
        "# Output the predicted probabilities\n",
        "print(\"Predicted Probabilities for the 138 notes:\", predicted_probabilities)"
      ]
    }
  ],
  "metadata": {
    "colab": {
      "provenance": []
    },
    "kernelspec": {
      "display_name": "venv",
      "language": "python",
      "name": "python3"
    },
    "language_info": {
      "codemirror_mode": {
        "name": "ipython",
        "version": 3
      },
      "file_extension": ".py",
      "mimetype": "text/x-python",
      "name": "python",
      "nbconvert_exporter": "python",
      "pygments_lexer": "ipython3",
      "version": "3.9.13"
    }
  },
  "nbformat": 4,
  "nbformat_minor": 0
}
